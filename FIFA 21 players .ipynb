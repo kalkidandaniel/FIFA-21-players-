{
 "cells": [
  {
   "cell_type": "markdown",
   "id": "0bae20fb-eb36-4490-939c-37b848948ee8",
   "metadata": {},
   "source": [
    "# FIFA 21 players Data\n",
    "##     Data cleaning and Transformation"
   ]
  },
  {
   "cell_type": "markdown",
   "id": "0006ba3c-d438-470a-8088-df8935d4adab",
   "metadata": {},
   "source": [
    "### Questions to answer\n",
    "##### * Do the height and weight columns have the appropriate data types?\n",
    "##### * Can you separate the joined column into year, month and day columns?\n",
    "##### * Can you clean and transform the value,wage and release clause columns into columns of integers?\n",
    "##### * How can you remove the newline characters from the hits column?\n",
    "##### * should you separate the team & Contract column into separate team and contract columns?"
   ]
  },
  {
   "cell_type": "code",
   "execution_count": 16,
   "id": "37a0f88e-c0b1-4d16-8888-2b77445aaa43",
   "metadata": {},
   "outputs": [],
   "source": [
    "import pandas as pd"
   ]
  },
  {
   "cell_type": "code",
   "execution_count": 17,
   "id": "24631d37-df52-47cf-ad8f-92388b6b8c9e",
   "metadata": {},
   "outputs": [],
   "source": [
    "df = pd.read_csv(r\"C:\\Users\\K A L K I D A N\\OneDrive\\Desktop\\projects\\data cleaning\\fifa21.CSV\")"
   ]
  },
  {
   "cell_type": "code",
   "execution_count": 18,
   "id": "91689500-7915-420b-a349-05027897ee92",
   "metadata": {
    "scrolled": true
   },
   "outputs": [
    {
     "data": {
      "text/plain": [
       "<bound method DataFrame.info of        Unnamed: 0      ID                   Name  Age  \\\n",
       "0               0  253283      Facundo Pellistri   18   \n",
       "1               1  179813         Edinson Cavani   32   \n",
       "2               2  245541         Giovanni Reyna   17   \n",
       "3               3  233419   Raphael Dias Belloli   23   \n",
       "4               4  198710        James Rodríguez   28   \n",
       "...           ...     ...                    ...  ...   \n",
       "18536       18536    5594         Rémy Vercoutre   37   \n",
       "18537       18537    3395  Shaun Wright-Phillips   34   \n",
       "18538       18538     388           Sol Campbell   35   \n",
       "18539       18539    2956        Stiliyan Petrov   32   \n",
       "18540       18540    1983     Stéphane Grichting   35   \n",
       "\n",
       "                                                  Photo    Nationality  \\\n",
       "0      https://cdn.sofifa.com/players/253/283/20_60.png        Uruguay   \n",
       "1      https://cdn.sofifa.com/players/179/813/20_60.png        Uruguay   \n",
       "2      https://cdn.sofifa.com/players/245/541/20_60.png  United States   \n",
       "3      https://cdn.sofifa.com/players/233/419/20_60.png         Brazil   \n",
       "4      https://cdn.sofifa.com/players/198/710/20_60.png       Colombia   \n",
       "...                                                 ...            ...   \n",
       "18536  https://cdn.sofifa.com/players/005/594/18_60.png         France   \n",
       "18537  https://cdn.sofifa.com/players/003/395/17_60.png        England   \n",
       "18538  https://cdn.sofifa.com/players/000/388/11_60.png        England   \n",
       "18539  https://cdn.sofifa.com/players/002/956/13_60.png       Bulgaria   \n",
       "18540  https://cdn.sofifa.com/players/001/983/15_60.png    Switzerland   \n",
       "\n",
       "                                          Flag  Overall  Potential  \\\n",
       "0          https://cdn.sofifa.com/flags/uy.png       71         87   \n",
       "1          https://cdn.sofifa.com/flags/uy.png       86         86   \n",
       "2          https://cdn.sofifa.com/flags/us.png       68         87   \n",
       "3          https://cdn.sofifa.com/flags/br.png       81         85   \n",
       "4          https://cdn.sofifa.com/flags/co.png       82         82   \n",
       "...                                        ...      ...        ...   \n",
       "18536      https://cdn.sofifa.com/flags/fr.png       77         77   \n",
       "18537  https://cdn.sofifa.com/flags/gb-eng.png       68         68   \n",
       "18538  https://cdn.sofifa.com/flags/gb-eng.png       75         79   \n",
       "18539      https://cdn.sofifa.com/flags/bg.png       76         76   \n",
       "18540      https://cdn.sofifa.com/flags/ch.png       67         67   \n",
       "\n",
       "                          Club  ... Penalties  Composure  Defensive Awareness  \\\n",
       "0                      Peñarol  ...      66.0       61.0                 35.0   \n",
       "1          Paris Saint-Germain  ...      85.0       80.0                 57.0   \n",
       "2            Borussia Dortmund  ...      50.0       59.0                 30.0   \n",
       "3             Stade Rennais FC  ...      73.0       79.0                 45.0   \n",
       "4                      Everton  ...      81.0       87.0                 52.0   \n",
       "...                        ...  ...       ...        ...                  ...   \n",
       "18536      Stade Malherbe Caen  ...      23.0       20.0                  NaN   \n",
       "18537       New York Red Bulls  ...      64.0       70.0                  NaN   \n",
       "18538         Newcastle United  ...      37.0        NaN                  NaN   \n",
       "18539              Aston Villa  ...      67.0        NaN                  NaN   \n",
       "18540  Grasshopper Club Zürich  ...      51.0        NaN                  NaN   \n",
       "\n",
       "       Standing Tackle Sliding Tackle GK Diving GK Handling GK Kicking  \\\n",
       "0                 11.0           18.0       9.0        12.0        7.0   \n",
       "1                 48.0           39.0      12.0         5.0       13.0   \n",
       "2                 23.0           24.0      10.0        13.0       14.0   \n",
       "3                 54.0           38.0       8.0         7.0       13.0   \n",
       "4                 41.0           44.0      15.0        15.0       15.0   \n",
       "...                ...            ...       ...         ...        ...   \n",
       "18536             11.0           11.0      76.0        76.0       77.0   \n",
       "18537             27.0           33.0      14.0         9.0       14.0   \n",
       "18538             77.0           73.0      11.0         7.0       12.0   \n",
       "18539             62.0           70.0       9.0         9.0        7.0   \n",
       "18540             65.0           69.0      13.0        15.0        9.0   \n",
       "\n",
       "      GK Positioning GK Reflexes  \n",
       "0                8.0         7.0  \n",
       "1               13.0        10.0  \n",
       "2               12.0         7.0  \n",
       "3                8.0        14.0  \n",
       "4                5.0        14.0  \n",
       "...              ...         ...  \n",
       "18536           77.0        77.0  \n",
       "18537           11.0        12.0  \n",
       "18538            5.0         9.0  \n",
       "18539            9.0        15.0  \n",
       "18540            5.0         5.0  \n",
       "\n",
       "[18541 rows x 92 columns]>"
      ]
     },
     "execution_count": 18,
     "metadata": {},
     "output_type": "execute_result"
    }
   ],
   "source": [
    "df.info"
   ]
  },
  {
   "cell_type": "code",
   "execution_count": 22,
   "id": "1b4ea1e5-2368-4c00-b238-15458894be92",
   "metadata": {},
   "outputs": [
    {
     "name": "stdout",
     "output_type": "stream",
     "text": [
      "Index(['Unnamed: 0', 'ID', 'Name', 'Age', 'Photo', 'Nationality', 'Flag',\n",
      "       'Overall', 'Potential', 'Club', 'Club Logo', 'Value', 'Wage', 'Special',\n",
      "       'Preferred Foot', 'Weak Foot', 'Skill Moves',\n",
      "       'International Reputation', 'Work Rate', 'Body Type', 'Real Face',\n",
      "       'Release Clause', 'Position', 'Jersey Number', 'Joined',\n",
      "       'Contract Valid Until', 'Height', 'Weight', 'LS', 'ST', 'RS', 'LW',\n",
      "       'LF', 'CF', 'RF', 'RW', 'LAM', 'CAM', 'RAM', 'LM', 'LCM', 'CM', 'RCM',\n",
      "       'RM', 'LWB', 'LDM', 'CDM', 'RDM', 'RWB', 'LB', 'LCB', 'CB', 'RCB', 'RB',\n",
      "       'GK', 'Likes', 'Dislikes', 'Following', 'Crossing', 'Finishing',\n",
      "       'Heading Accuracy', 'Short Passing', 'Volleys', 'Dribbling', 'Curve',\n",
      "       'FK Accuracy', 'Long Passing', 'Ball Control', 'Acceleration',\n",
      "       'Sprint Speed', 'Agility', 'Reactions', 'Balance', 'Shot Power',\n",
      "       'Jumping', 'Stamina', 'Strength', 'Long Shots', 'Aggression',\n",
      "       'Interceptions', 'Positioning', 'Vision', 'Penalties', 'Composure',\n",
      "       'Defensive Awareness', 'Standing Tackle', 'Sliding Tackle', 'GK Diving',\n",
      "       'GK Handling', 'GK Kicking', 'GK Positioning', 'GK Reflexes'],\n",
      "      dtype='object')\n"
     ]
    }
   ],
   "source": [
    "print(df.columns)"
   ]
  },
  {
   "cell_type": "code",
   "execution_count": 24,
   "id": "7aeffa1f-2f43-49a5-a5a1-7086a88025d2",
   "metadata": {},
   "outputs": [],
   "source": [
    "df['Weight'] = df['Weight'].str.replace(\"lbs\", \"\").astype(float) * 0.453592\n"
   ]
  },
  {
   "cell_type": "code",
   "execution_count": 25,
   "id": "25cb51cb-b7fc-46b1-8cfd-6408d6e3bb28",
   "metadata": {},
   "outputs": [
    {
     "data": {
      "text/plain": [
       "0        64.863656\n",
       "1        77.110640\n",
       "2        78.925008\n",
       "3        68.038800\n",
       "4        74.842680\n",
       "           ...    \n",
       "18536    78.017824\n",
       "18537    63.956472\n",
       "18538    86.182480\n",
       "18539    77.110640\n",
       "18540    79.832192\n",
       "Name: Weight, Length: 18541, dtype: float64"
      ]
     },
     "execution_count": 25,
     "metadata": {},
     "output_type": "execute_result"
    }
   ],
   "source": [
    "df['Weight'] "
   ]
  },
  {
   "cell_type": "code",
   "execution_count": 26,
   "id": "53629981-b476-4963-a0e5-dee28329d0fb",
   "metadata": {},
   "outputs": [],
   "source": [
    "import re\n",
    "\n",
    "# Function to convert height from \"5'9\" format to meters\n",
    "def convert_height(height):\n",
    "    match = re.match(r\"(\\d+)'(\\d+)\", height)\n",
    "    if match:\n",
    "        feet = int(match.group(1))\n",
    "        inches = int(match.group(2))\n",
    "        total_cm = (feet * 30.48) + (inches * 2.54)  # Convert feet and inches to cm\n",
    "        return total_cm / 100  # Convert cm to meters\n",
    "    return None  # Return None if format is incorrect\n",
    "\n",
    "# Apply the function to the Height column\n",
    "df['Height'] = df['Height'].astype(str).apply(convert_height)\n"
   ]
  },
  {
   "cell_type": "code",
   "execution_count": 27,
   "id": "05a2a3d8-c435-4d71-ade4-528e3359f7fe",
   "metadata": {},
   "outputs": [
    {
     "data": {
      "text/plain": [
       "0        1.7526\n",
       "1        1.8542\n",
       "2        1.8542\n",
       "3        1.7526\n",
       "4        1.8034\n",
       "          ...  \n",
       "18536    1.8542\n",
       "18537    1.6510\n",
       "18538    1.8796\n",
       "18539    1.8034\n",
       "18540    1.8542\n",
       "Name: Height, Length: 18541, dtype: float64"
      ]
     },
     "execution_count": 27,
     "metadata": {},
     "output_type": "execute_result"
    }
   ],
   "source": [
    "df['Height'] "
   ]
  },
  {
   "cell_type": "code",
   "execution_count": 28,
   "id": "803ff290-36c2-4697-8614-15c89c1235f2",
   "metadata": {},
   "outputs": [
    {
     "data": {
      "text/plain": [
       "Unnamed: 0         0\n",
       "ID                 0\n",
       "Name               0\n",
       "Age                0\n",
       "Photo              0\n",
       "                  ..\n",
       "GK Diving         30\n",
       "GK Handling       32\n",
       "GK Kicking        32\n",
       "GK Positioning    34\n",
       "GK Reflexes       36\n",
       "Length: 92, dtype: int64"
      ]
     },
     "execution_count": 28,
     "metadata": {},
     "output_type": "execute_result"
    }
   ],
   "source": [
    "import numpy as np\n",
    "df.isnull().sum()\n"
   ]
  },
  {
   "cell_type": "code",
   "execution_count": 29,
   "id": "07e2582e-f70f-4fb5-b0a6-72b89b01bc94",
   "metadata": {},
   "outputs": [],
   "source": [
    "df.dropna(inplace=True)"
   ]
  },
  {
   "cell_type": "code",
   "execution_count": 30,
   "id": "62d62bb0-d6cb-4a6f-8faf-7bf154dd4764",
   "metadata": {},
   "outputs": [],
   "source": [
    "# Ensure proper data types\n",
    "\n",
    "df[\"Height\"] = df[\"Height\"].astype(float)\n",
    "df[\"Weight\"] = df[\"Weight\"].astype(float)"
   ]
  },
  {
   "cell_type": "code",
   "execution_count": 31,
   "id": "8f29e828-e7d2-43c5-aa69-d3fb6ee06483",
   "metadata": {},
   "outputs": [],
   "source": [
    "df.columns = df.columns.str.strip().str.lower()"
   ]
  },
  {
   "cell_type": "code",
   "execution_count": 33,
   "id": "911b532d-8fef-4196-9fc8-59934b9d6904",
   "metadata": {},
   "outputs": [
    {
     "data": {
      "text/plain": [
       "Index(['unnamed: 0', 'id', 'name', 'age', 'photo', 'nationality', 'flag',\n",
       "       'overall', 'potential', 'club', 'club logo', 'value', 'wage', 'special',\n",
       "       'preferred foot', 'weak foot', 'skill moves',\n",
       "       'international reputation', 'work rate', 'body type', 'real face',\n",
       "       'release clause', 'position', 'jersey number', 'joined',\n",
       "       'contract valid until', 'height', 'weight', 'ls', 'st', 'rs', 'lw',\n",
       "       'lf', 'cf', 'rf', 'rw', 'lam', 'cam', 'ram', 'lm', 'lcm', 'cm', 'rcm',\n",
       "       'rm', 'lwb', 'ldm', 'cdm', 'rdm', 'rwb', 'lb', 'lcb', 'cb', 'rcb', 'rb',\n",
       "       'gk', 'likes', 'dislikes', 'following', 'crossing', 'finishing',\n",
       "       'heading accuracy', 'short passing', 'volleys', 'dribbling', 'curve',\n",
       "       'fk accuracy', 'long passing', 'ball control', 'acceleration',\n",
       "       'sprint speed', 'agility', 'reactions', 'balance', 'shot power',\n",
       "       'jumping', 'stamina', 'strength', 'long shots', 'aggression',\n",
       "       'interceptions', 'positioning', 'vision', 'penalties', 'composure',\n",
       "       'defensive awareness', 'standing tackle', 'sliding tackle', 'gk diving',\n",
       "       'gk handling', 'gk kicking', 'gk positioning', 'gk reflexes'],\n",
       "      dtype='object')"
      ]
     },
     "execution_count": 33,
     "metadata": {},
     "output_type": "execute_result"
    }
   ],
   "source": [
    "df.columns"
   ]
  },
  {
   "cell_type": "code",
   "execution_count": 34,
   "id": "496d8f6a-e16e-4623-abdb-4215cecc8d8f",
   "metadata": {},
   "outputs": [],
   "source": [
    "# Separate a date column (assuming 'joined' column has dates)\n",
    "\n",
    "df['joined'] = pd.to_datetime(df['joined'], errors='coerce')  # Convert to datetime\n",
    "df['joined_year'] = df['joined'].dt.year\n",
    "df['joined_month'] = df['joined'].dt.month\n",
    "df['joined_day'] = df['joined'].dt.day"
   ]
  },
  {
   "cell_type": "code",
   "execution_count": 35,
   "id": "9664beb1-2d78-47d8-ac36-a1fe1945ed80",
   "metadata": {},
   "outputs": [
    {
     "data": {
      "text/plain": [
       "0       2019-01-01\n",
       "1       2013-07-16\n",
       "2       2019-12-07\n",
       "3       2019-09-02\n",
       "4       2020-09-07\n",
       "           ...    \n",
       "18460   2017-07-01\n",
       "18477   2019-09-10\n",
       "18478   2016-01-28\n",
       "18494   2017-07-01\n",
       "18512   2018-07-01\n",
       "Name: joined, Length: 13701, dtype: datetime64[ns]"
      ]
     },
     "execution_count": 35,
     "metadata": {},
     "output_type": "execute_result"
    }
   ],
   "source": [
    "df['joined']"
   ]
  },
  {
   "cell_type": "code",
   "execution_count": 38,
   "id": "18418609-f95f-4c13-8a30-653e66daa309",
   "metadata": {
    "scrolled": true
   },
   "outputs": [],
   "source": [
    "#  Convert Value, Wage, and Release Clause into integers\n",
    "\n",
    "def convert_currency(value):\n",
    "    if isinstance(value, str):\n",
    "        value = value.replace(\"€\", \"\").replace(\"M\", \"000000\").replace(\"K\", \"000\").replace(\" \", \"\")\n",
    "        return int(float(value)) if value else 0\n",
    "    return 0\n",
    "\n",
    "df[\"value\"] = df[\"value\"].astype(str).apply(convert_currency)\n",
    "df[\"wage\"] = df[\"wage\"].astype(str).apply(convert_currency)\n",
    "df[\"release clause\"] = df[\"release clause\"].astype(str).apply(convert_currency)"
   ]
  },
  {
   "cell_type": "code",
   "execution_count": 37,
   "id": "9793b925-0075-47fa-acad-43b745869518",
   "metadata": {},
   "outputs": [
    {
     "name": "stdout",
     "output_type": "stream",
     "text": [
      "Index(['unnamed: 0', 'id', 'name', 'age', 'photo', 'nationality', 'flag',\n",
      "       'overall', 'potential', 'club', 'club logo', 'value', 'wage', 'special',\n",
      "       'preferred foot', 'weak foot', 'skill moves',\n",
      "       'international reputation', 'work rate', 'body type', 'real face',\n",
      "       'release clause', 'position', 'jersey number', 'joined',\n",
      "       'contract valid until', 'height', 'weight', 'ls', 'st', 'rs', 'lw',\n",
      "       'lf', 'cf', 'rf', 'rw', 'lam', 'cam', 'ram', 'lm', 'lcm', 'cm', 'rcm',\n",
      "       'rm', 'lwb', 'ldm', 'cdm', 'rdm', 'rwb', 'lb', 'lcb', 'cb', 'rcb', 'rb',\n",
      "       'gk', 'likes', 'dislikes', 'following', 'crossing', 'finishing',\n",
      "       'heading accuracy', 'short passing', 'volleys', 'dribbling', 'curve',\n",
      "       'fk accuracy', 'long passing', 'ball control', 'acceleration',\n",
      "       'sprint speed', 'agility', 'reactions', 'balance', 'shot power',\n",
      "       'jumping', 'stamina', 'strength', 'long shots', 'aggression',\n",
      "       'interceptions', 'positioning', 'vision', 'penalties', 'composure',\n",
      "       'defensive awareness', 'standing tackle', 'sliding tackle', 'gk diving',\n",
      "       'gk handling', 'gk kicking', 'gk positioning', 'gk reflexes',\n",
      "       'joined_year', 'joined_month', 'joined_day'],\n",
      "      dtype='object')\n"
     ]
    }
   ],
   "source": [
    "print(df.columns)"
   ]
  },
  {
   "cell_type": "code",
   "execution_count": 41,
   "id": "11d041fe-ba72-4e47-bd40-c12afa0b0aec",
   "metadata": {},
   "outputs": [
    {
     "name": "stdout",
     "output_type": "stream",
     "text": [
      "Column 'team & contract' not found. Skipping this step.\n"
     ]
    }
   ],
   "source": [
    "if \"team_&_contract\" in df.columns:\n",
    "    df[['team', 'contract']] = df[\"team_&_contract\"].str.split(\" \", 1, expand=True)\n",
    "else:\n",
    "    print(\"Column 'team & contract' not found. Skipping this step.\")"
   ]
  },
  {
   "cell_type": "markdown",
   "id": "4a301af1-59eb-476a-b8bc-2619c2aa8494",
   "metadata": {},
   "source": [
    "## What This Code Fixes:\n",
    "### ✔ Ensures height & weight have correct types.\n",
    "### ✔ Converts currency-based columns to integers.\n",
    "### ✔ Handles missing columns without breaking.\n",
    "### ✔ Splits columns correctly if they exist.\n",
    "### ✔ Removes unnecessary characters cleanly.\n",
    "\n"
   ]
  },
  {
   "cell_type": "code",
   "execution_count": null,
   "id": "2337b186-766a-42e7-91ef-ebc77551a74f",
   "metadata": {},
   "outputs": [],
   "source": []
  },
  {
   "cell_type": "code",
   "execution_count": null,
   "id": "dfa5af13-ef3e-4141-80f8-2f782fb5efcf",
   "metadata": {},
   "outputs": [],
   "source": []
  },
  {
   "cell_type": "code",
   "execution_count": null,
   "id": "d8c8eae7-4625-4c76-9d91-694556b51eaf",
   "metadata": {},
   "outputs": [],
   "source": []
  },
  {
   "cell_type": "code",
   "execution_count": null,
   "id": "722b48e2-0509-4c87-bcda-8e264e8defd2",
   "metadata": {},
   "outputs": [],
   "source": []
  },
  {
   "cell_type": "code",
   "execution_count": null,
   "id": "1c9e32a0-4a31-4da4-a4b7-64d569c4d186",
   "metadata": {},
   "outputs": [],
   "source": []
  },
  {
   "cell_type": "code",
   "execution_count": null,
   "id": "0d445947-2eca-45a5-926c-e04494659282",
   "metadata": {},
   "outputs": [],
   "source": []
  }
 ],
 "metadata": {
  "kernelspec": {
   "display_name": "Python 3 (ipykernel)",
   "language": "python",
   "name": "python3"
  },
  "language_info": {
   "codemirror_mode": {
    "name": "ipython",
    "version": 3
   },
   "file_extension": ".py",
   "mimetype": "text/x-python",
   "name": "python",
   "nbconvert_exporter": "python",
   "pygments_lexer": "ipython3",
   "version": "3.12.7"
  }
 },
 "nbformat": 4,
 "nbformat_minor": 5
}
